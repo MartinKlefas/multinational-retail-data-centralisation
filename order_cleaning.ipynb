{
 "cells": [
  {
   "cell_type": "code",
   "execution_count": 1,
   "metadata": {},
   "outputs": [
    {
     "data": {
      "text/plain": [
       "['legacy_store_details', 'legacy_users', 'orders_table']"
      ]
     },
     "execution_count": 1,
     "metadata": {},
     "output_type": "execute_result"
    }
   ],
   "source": [
    "import database_utils\n",
    "import pandas as pd\n",
    "\n",
    "pd.set_option('display.max_columns', None)\n",
    "\n",
    "myObject = database_utils.DatabaseConnector()\n",
    "engine = myObject.init_db_engine()\n",
    "\n",
    "myObject.list_db_tables(engine)\n"
   ]
  },
  {
   "cell_type": "code",
   "execution_count": 2,
   "metadata": {},
   "outputs": [
    {
     "data": {
      "text/plain": [
       "pandas.core.frame.DataFrame"
      ]
     },
     "execution_count": 2,
     "metadata": {},
     "output_type": "execute_result"
    }
   ],
   "source": [
    "df = myObject.read_rds_table(engine,\"orders_table\")\n",
    "\n",
    "type(df)"
   ]
  },
  {
   "attachments": {},
   "cell_type": "markdown",
   "metadata": {},
   "source": [
    "df is a dataframe that now contains the data from our orders table\n",
    "These are the first & last few lines of the database then!"
   ]
  },
  {
   "cell_type": "code",
   "execution_count": 3,
   "metadata": {},
   "outputs": [
    {
     "data": {
      "text/html": [
       "<div>\n",
       "<style scoped>\n",
       "    .dataframe tbody tr th:only-of-type {\n",
       "        vertical-align: middle;\n",
       "    }\n",
       "\n",
       "    .dataframe tbody tr th {\n",
       "        vertical-align: top;\n",
       "    }\n",
       "\n",
       "    .dataframe thead th {\n",
       "        text-align: right;\n",
       "    }\n",
       "</style>\n",
       "<table border=\"1\" class=\"dataframe\">\n",
       "  <thead>\n",
       "    <tr style=\"text-align: right;\">\n",
       "      <th></th>\n",
       "      <th>level_0</th>\n",
       "      <th>index</th>\n",
       "      <th>date_uuid</th>\n",
       "      <th>first_name</th>\n",
       "      <th>last_name</th>\n",
       "      <th>user_uuid</th>\n",
       "      <th>card_number</th>\n",
       "      <th>store_code</th>\n",
       "      <th>product_code</th>\n",
       "      <th>1</th>\n",
       "      <th>product_quantity</th>\n",
       "    </tr>\n",
       "  </thead>\n",
       "  <tbody>\n",
       "    <tr>\n",
       "      <th>0</th>\n",
       "      <td>0</td>\n",
       "      <td>0</td>\n",
       "      <td>9476f17e-5d6a-4117-874d-9cdb38ca1fa6</td>\n",
       "      <td>None</td>\n",
       "      <td>None</td>\n",
       "      <td>93caf182-e4e9-4c6e-bebb-60a1a9dcf9b8</td>\n",
       "      <td>30060773296197</td>\n",
       "      <td>BL-8387506C</td>\n",
       "      <td>R7-3126933h</td>\n",
       "      <td>NaN</td>\n",
       "      <td>3</td>\n",
       "    </tr>\n",
       "    <tr>\n",
       "      <th>1</th>\n",
       "      <td>1</td>\n",
       "      <td>1</td>\n",
       "      <td>0423a395-a04d-4e4a-bd0f-d237cbd5a295</td>\n",
       "      <td>None</td>\n",
       "      <td>None</td>\n",
       "      <td>8fe96c3a-d62d-4eb5-b313-cf12d9126a49</td>\n",
       "      <td>349624180933183</td>\n",
       "      <td>WEB-1388012W</td>\n",
       "      <td>C2-7287916l</td>\n",
       "      <td>NaN</td>\n",
       "      <td>2</td>\n",
       "    </tr>\n",
       "    <tr>\n",
       "      <th>2</th>\n",
       "      <td>2</td>\n",
       "      <td>2</td>\n",
       "      <td>65187294-bb16-4519-adc0-787bbe423970</td>\n",
       "      <td>None</td>\n",
       "      <td>None</td>\n",
       "      <td>fc461df4-b919-48b2-909e-55c95a03fe6b</td>\n",
       "      <td>3529023891650490</td>\n",
       "      <td>CH-01D85C8D</td>\n",
       "      <td>S7-1175877v</td>\n",
       "      <td>NaN</td>\n",
       "      <td>2</td>\n",
       "    </tr>\n",
       "    <tr>\n",
       "      <th>3</th>\n",
       "      <td>3</td>\n",
       "      <td>3</td>\n",
       "      <td>579e21f7-13cb-436b-83ad-33687a4eb337</td>\n",
       "      <td>None</td>\n",
       "      <td>None</td>\n",
       "      <td>6104719f-ef14-4b09-bf04-fb0c4620acb0</td>\n",
       "      <td>213142929492281</td>\n",
       "      <td>CL-C183BE4B</td>\n",
       "      <td>D8-8421505n</td>\n",
       "      <td>NaN</td>\n",
       "      <td>2</td>\n",
       "    </tr>\n",
       "    <tr>\n",
       "      <th>4</th>\n",
       "      <td>4</td>\n",
       "      <td>4</td>\n",
       "      <td>00ab86c3-2039-4674-b9c1-adbcbbf525bd</td>\n",
       "      <td>None</td>\n",
       "      <td>None</td>\n",
       "      <td>9523a6d3-b2dd-4670-a51a-36aebc89f579</td>\n",
       "      <td>502067329974</td>\n",
       "      <td>SO-B5B9CB3B</td>\n",
       "      <td>B6-2596063a</td>\n",
       "      <td>NaN</td>\n",
       "      <td>2</td>\n",
       "    </tr>\n",
       "  </tbody>\n",
       "</table>\n",
       "</div>"
      ],
      "text/plain": [
       "   level_0  index                             date_uuid first_name last_name  \\\n",
       "0        0      0  9476f17e-5d6a-4117-874d-9cdb38ca1fa6       None      None   \n",
       "1        1      1  0423a395-a04d-4e4a-bd0f-d237cbd5a295       None      None   \n",
       "2        2      2  65187294-bb16-4519-adc0-787bbe423970       None      None   \n",
       "3        3      3  579e21f7-13cb-436b-83ad-33687a4eb337       None      None   \n",
       "4        4      4  00ab86c3-2039-4674-b9c1-adbcbbf525bd       None      None   \n",
       "\n",
       "                              user_uuid       card_number    store_code  \\\n",
       "0  93caf182-e4e9-4c6e-bebb-60a1a9dcf9b8    30060773296197   BL-8387506C   \n",
       "1  8fe96c3a-d62d-4eb5-b313-cf12d9126a49   349624180933183  WEB-1388012W   \n",
       "2  fc461df4-b919-48b2-909e-55c95a03fe6b  3529023891650490   CH-01D85C8D   \n",
       "3  6104719f-ef14-4b09-bf04-fb0c4620acb0   213142929492281   CL-C183BE4B   \n",
       "4  9523a6d3-b2dd-4670-a51a-36aebc89f579      502067329974   SO-B5B9CB3B   \n",
       "\n",
       "  product_code   1  product_quantity  \n",
       "0  R7-3126933h NaN                 3  \n",
       "1  C2-7287916l NaN                 2  \n",
       "2  S7-1175877v NaN                 2  \n",
       "3  D8-8421505n NaN                 2  \n",
       "4  B6-2596063a NaN                 2  "
      ]
     },
     "execution_count": 3,
     "metadata": {},
     "output_type": "execute_result"
    }
   ],
   "source": [
    "df.head(5)"
   ]
  },
  {
   "cell_type": "code",
   "execution_count": 4,
   "metadata": {},
   "outputs": [
    {
     "data": {
      "text/html": [
       "<div>\n",
       "<style scoped>\n",
       "    .dataframe tbody tr th:only-of-type {\n",
       "        vertical-align: middle;\n",
       "    }\n",
       "\n",
       "    .dataframe tbody tr th {\n",
       "        vertical-align: top;\n",
       "    }\n",
       "\n",
       "    .dataframe thead th {\n",
       "        text-align: right;\n",
       "    }\n",
       "</style>\n",
       "<table border=\"1\" class=\"dataframe\">\n",
       "  <thead>\n",
       "    <tr style=\"text-align: right;\">\n",
       "      <th></th>\n",
       "      <th>level_0</th>\n",
       "      <th>index</th>\n",
       "      <th>date_uuid</th>\n",
       "      <th>first_name</th>\n",
       "      <th>last_name</th>\n",
       "      <th>user_uuid</th>\n",
       "      <th>card_number</th>\n",
       "      <th>store_code</th>\n",
       "      <th>product_code</th>\n",
       "      <th>1</th>\n",
       "      <th>product_quantity</th>\n",
       "    </tr>\n",
       "  </thead>\n",
       "  <tbody>\n",
       "    <tr>\n",
       "      <th>120118</th>\n",
       "      <td>110549</td>\n",
       "      <td>110548</td>\n",
       "      <td>f0e8fff6-9998-4661-954b-0e258e09d33c</td>\n",
       "      <td>None</td>\n",
       "      <td>None</td>\n",
       "      <td>95c74b0a-d495-4359-b1c0-e2da511e8403</td>\n",
       "      <td>575421945446</td>\n",
       "      <td>KA-FA7ED3B8</td>\n",
       "      <td>C9-6827622o</td>\n",
       "      <td>NaN</td>\n",
       "      <td>4</td>\n",
       "    </tr>\n",
       "    <tr>\n",
       "      <th>120119</th>\n",
       "      <td>82164</td>\n",
       "      <td>82164</td>\n",
       "      <td>1c80940a-d186-4ba9-9daa-8abd1aceae32</td>\n",
       "      <td>None</td>\n",
       "      <td>None</td>\n",
       "      <td>5d6fa6fe-e583-4baf-8bbb-d1dd6e2b551f</td>\n",
       "      <td>4971858637664481</td>\n",
       "      <td>WA-A41DA979</td>\n",
       "      <td>I0-1146408B</td>\n",
       "      <td>NaN</td>\n",
       "      <td>1</td>\n",
       "    </tr>\n",
       "    <tr>\n",
       "      <th>120120</th>\n",
       "      <td>97599</td>\n",
       "      <td>97599</td>\n",
       "      <td>58598aca-049c-418e-8e39-46327634a7f1</td>\n",
       "      <td>Sharon</td>\n",
       "      <td>Miller</td>\n",
       "      <td>48b7f1fc-db13-4611-ad8e-3dac0b759488</td>\n",
       "      <td>4971858637664481</td>\n",
       "      <td>WEB-1388012W</td>\n",
       "      <td>A4-5443400b</td>\n",
       "      <td>NaN</td>\n",
       "      <td>4</td>\n",
       "    </tr>\n",
       "    <tr>\n",
       "      <th>120121</th>\n",
       "      <td>106591</td>\n",
       "      <td>106591</td>\n",
       "      <td>3a76f661-0707-4fbc-9862-f21d3249f581</td>\n",
       "      <td>None</td>\n",
       "      <td>None</td>\n",
       "      <td>51c0b538-7ded-4697-8e84-9f7aa13f9112</td>\n",
       "      <td>4971858637664481</td>\n",
       "      <td>SO-6D328417</td>\n",
       "      <td>E9-2782979e</td>\n",
       "      <td>NaN</td>\n",
       "      <td>4</td>\n",
       "    </tr>\n",
       "    <tr>\n",
       "      <th>120122</th>\n",
       "      <td>118806</td>\n",
       "      <td>118804</td>\n",
       "      <td>98fdc8b3-f619-4471-86b4-f44c26880166</td>\n",
       "      <td>None</td>\n",
       "      <td>None</td>\n",
       "      <td>e74907ca-1a4a-476c-a3ca-6b898b0964c2</td>\n",
       "      <td>4971858637664481</td>\n",
       "      <td>SO-6D328417</td>\n",
       "      <td>m0-0281207X</td>\n",
       "      <td>NaN</td>\n",
       "      <td>3</td>\n",
       "    </tr>\n",
       "  </tbody>\n",
       "</table>\n",
       "</div>"
      ],
      "text/plain": [
       "        level_0   index                             date_uuid first_name  \\\n",
       "120118   110549  110548  f0e8fff6-9998-4661-954b-0e258e09d33c       None   \n",
       "120119    82164   82164  1c80940a-d186-4ba9-9daa-8abd1aceae32       None   \n",
       "120120    97599   97599  58598aca-049c-418e-8e39-46327634a7f1     Sharon   \n",
       "120121   106591  106591  3a76f661-0707-4fbc-9862-f21d3249f581       None   \n",
       "120122   118806  118804  98fdc8b3-f619-4471-86b4-f44c26880166       None   \n",
       "\n",
       "       last_name                             user_uuid       card_number  \\\n",
       "120118      None  95c74b0a-d495-4359-b1c0-e2da511e8403      575421945446   \n",
       "120119      None  5d6fa6fe-e583-4baf-8bbb-d1dd6e2b551f  4971858637664481   \n",
       "120120    Miller  48b7f1fc-db13-4611-ad8e-3dac0b759488  4971858637664481   \n",
       "120121      None  51c0b538-7ded-4697-8e84-9f7aa13f9112  4971858637664481   \n",
       "120122      None  e74907ca-1a4a-476c-a3ca-6b898b0964c2  4971858637664481   \n",
       "\n",
       "          store_code product_code   1  product_quantity  \n",
       "120118   KA-FA7ED3B8  C9-6827622o NaN                 4  \n",
       "120119   WA-A41DA979  I0-1146408B NaN                 1  \n",
       "120120  WEB-1388012W  A4-5443400b NaN                 4  \n",
       "120121   SO-6D328417  E9-2782979e NaN                 4  \n",
       "120122   SO-6D328417  m0-0281207X NaN                 3  "
      ]
     },
     "execution_count": 4,
     "metadata": {},
     "output_type": "execute_result"
    }
   ],
   "source": [
    "df.tail(5)"
   ]
  },
  {
   "cell_type": "code",
   "execution_count": 5,
   "metadata": {},
   "outputs": [
    {
     "name": "stdout",
     "output_type": "stream",
     "text": [
      "<class 'pandas.core.frame.DataFrame'>\n",
      "RangeIndex: 120123 entries, 0 to 120122\n",
      "Data columns (total 11 columns):\n",
      " #   Column            Non-Null Count   Dtype  \n",
      "---  ------            --------------   -----  \n",
      " 0   level_0           120123 non-null  int64  \n",
      " 1   index             120123 non-null  int64  \n",
      " 2   date_uuid         120123 non-null  object \n",
      " 3   first_name        15284 non-null   object \n",
      " 4   last_name         15284 non-null   object \n",
      " 5   user_uuid         120123 non-null  object \n",
      " 6   card_number       120123 non-null  int64  \n",
      " 7   store_code        120123 non-null  object \n",
      " 8   product_code      120123 non-null  object \n",
      " 9   1                 0 non-null       float64\n",
      " 10  product_quantity  120123 non-null  int64  \n",
      "dtypes: float64(1), int64(4), object(6)\n",
      "memory usage: 10.1+ MB\n"
     ]
    }
   ],
   "source": [
    "df.info()"
   ]
  },
  {
   "attachments": {},
   "cell_type": "markdown",
   "metadata": {},
   "source": [
    "Well, that's a lot of junk columns! Let's drop: level_0, index, 1, first_name & last_name"
   ]
  },
  {
   "cell_type": "code",
   "execution_count": 6,
   "metadata": {},
   "outputs": [
    {
     "name": "stdout",
     "output_type": "stream",
     "text": [
      "<class 'pandas.core.frame.DataFrame'>\n",
      "RangeIndex: 120123 entries, 0 to 120122\n",
      "Data columns (total 6 columns):\n",
      " #   Column            Non-Null Count   Dtype \n",
      "---  ------            --------------   ----- \n",
      " 0   date_uuid         120123 non-null  object\n",
      " 1   user_uuid         120123 non-null  object\n",
      " 2   card_number       120123 non-null  int64 \n",
      " 3   store_code        120123 non-null  object\n",
      " 4   product_code      120123 non-null  object\n",
      " 5   product_quantity  120123 non-null  int64 \n",
      "dtypes: int64(2), object(4)\n",
      "memory usage: 5.5+ MB\n"
     ]
    }
   ],
   "source": [
    "df = df.drop(columns=[\"level_0\", \"index\",  \"1\",'first_name','last_name'])\n",
    "df.info()"
   ]
  },
  {
   "attachments": {},
   "cell_type": "markdown",
   "metadata": {},
   "source": [
    "Though large, store code and product code should be categories and tied to the other tables"
   ]
  },
  {
   "cell_type": "code",
   "execution_count": 7,
   "metadata": {},
   "outputs": [],
   "source": [
    "df['store_code'] = df['store_code'].astype('category')\n",
    "df['product_code'] = df['product_code'].astype('category')"
   ]
  },
  {
   "attachments": {},
   "cell_type": "markdown",
   "metadata": {},
   "source": [
    "Nope. What about duplicate lines?"
   ]
  },
  {
   "cell_type": "code",
   "execution_count": 8,
   "metadata": {},
   "outputs": [
    {
     "data": {
      "text/plain": [
       "0"
      ]
     },
     "execution_count": 8,
     "metadata": {},
     "output_type": "execute_result"
    }
   ],
   "source": [
    "df.duplicated().sum()"
   ]
  },
  {
   "attachments": {},
   "cell_type": "markdown",
   "metadata": {},
   "source": [
    "Should I do something about this date_uuid??"
   ]
  },
  {
   "attachments": {},
   "cell_type": "markdown",
   "metadata": {},
   "source": [
    "Now put the code into a local database maybe"
   ]
  },
  {
   "cell_type": "code",
   "execution_count": 9,
   "metadata": {},
   "outputs": [
    {
     "name": "stdout",
     "output_type": "stream",
     "text": [
      "Created 123 lines.\n"
     ]
    }
   ],
   "source": [
    "myObject.upload_to_db(df,\"orders_table\")"
   ]
  },
  {
   "attachments": {},
   "cell_type": "markdown",
   "metadata": {},
   "source": [
    "Ideas for future:\n",
    "Misspellings: https://medium.com/geekculture/how-to-fix-misspelled-words-for-your-next-nlp-project-with-one-line-of-code-98888a5ff207\n",
    "Common variants of companies - \"ltd.\" vs \"ltd\" vs \"limited\""
   ]
  }
 ],
 "metadata": {
  "kernelspec": {
   "display_name": "retail-data",
   "language": "python",
   "name": "python3"
  },
  "language_info": {
   "codemirror_mode": {
    "name": "ipython",
    "version": 3
   },
   "file_extension": ".py",
   "mimetype": "text/x-python",
   "name": "python",
   "nbconvert_exporter": "python",
   "pygments_lexer": "ipython3",
   "version": "3.10.9"
  },
  "orig_nbformat": 4
 },
 "nbformat": 4,
 "nbformat_minor": 2
}
